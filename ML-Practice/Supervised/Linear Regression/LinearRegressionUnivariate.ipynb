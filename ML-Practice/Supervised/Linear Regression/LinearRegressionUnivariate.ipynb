{
 "cells": [
  {
   "cell_type": "code",
   "execution_count": 20,
   "metadata": {},
   "outputs": [],
   "source": [
    "import numpy as np\n",
    "import pandas as pd\n",
    "import seaborn as sns\n",
    "import scipy.optimize as opt    # for min functions"
   ]
  },
  {
   "cell_type": "markdown",
   "metadata": {},
   "source": [
    "### Get Data"
   ]
  },
  {
   "cell_type": "code",
   "execution_count": 2,
   "metadata": {},
   "outputs": [
    {
     "data": {
      "text/html": [
       "<div>\n",
       "<style scoped>\n",
       "    .dataframe tbody tr th:only-of-type {\n",
       "        vertical-align: middle;\n",
       "    }\n",
       "\n",
       "    .dataframe tbody tr th {\n",
       "        vertical-align: top;\n",
       "    }\n",
       "\n",
       "    .dataframe thead th {\n",
       "        text-align: right;\n",
       "    }\n",
       "</style>\n",
       "<table border=\"1\" class=\"dataframe\">\n",
       "  <thead>\n",
       "    <tr style=\"text-align: right;\">\n",
       "      <th></th>\n",
       "      <th>0</th>\n",
       "      <th>1</th>\n",
       "    </tr>\n",
       "  </thead>\n",
       "  <tbody>\n",
       "    <tr>\n",
       "      <th>0</th>\n",
       "      <td>6.1101</td>\n",
       "      <td>17.5920</td>\n",
       "    </tr>\n",
       "    <tr>\n",
       "      <th>1</th>\n",
       "      <td>5.5277</td>\n",
       "      <td>9.1302</td>\n",
       "    </tr>\n",
       "    <tr>\n",
       "      <th>2</th>\n",
       "      <td>8.5186</td>\n",
       "      <td>13.6620</td>\n",
       "    </tr>\n",
       "    <tr>\n",
       "      <th>3</th>\n",
       "      <td>7.0032</td>\n",
       "      <td>11.8540</td>\n",
       "    </tr>\n",
       "    <tr>\n",
       "      <th>4</th>\n",
       "      <td>5.8598</td>\n",
       "      <td>6.8233</td>\n",
       "    </tr>\n",
       "  </tbody>\n",
       "</table>\n",
       "</div>"
      ],
      "text/plain": [
       "        0        1\n",
       "0  6.1101  17.5920\n",
       "1  5.5277   9.1302\n",
       "2  8.5186  13.6620\n",
       "3  7.0032  11.8540\n",
       "4  5.8598   6.8233"
      ]
     },
     "execution_count": 2,
     "metadata": {},
     "output_type": "execute_result"
    }
   ],
   "source": [
    "data = pd.read_csv(\"ex1data1.txt\", header=None)\n",
    "data.head()"
   ]
  },
  {
   "cell_type": "markdown",
   "metadata": {},
   "source": [
    "### Split X and Y"
   ]
  },
  {
   "cell_type": "code",
   "execution_count": 91,
   "metadata": {},
   "outputs": [
    {
     "data": {
      "text/plain": [
       "<matplotlib.axes._subplots.AxesSubplot at 0x23ac4110278>"
      ]
     },
     "execution_count": 91,
     "metadata": {},
     "output_type": "execute_result"
    },
    {
     "data": {
      "image/png": "[encoded data removed]",
      "text/plain": [
       "<Figure size 432x288 with 1 Axes>"
      ]
     },
     "metadata": {
      "needs_background": "light"
     },
     "output_type": "display_data"
    }
   ],
   "source": [
    "x=data[0]\n",
    "y=data[1]\n",
    "x.head()\n",
    "sns.scatterplot(x, y)"
   ]
  },
  {
   "cell_type": "code",
   "execution_count": 98,
   "metadata": {},
   "outputs": [],
   "source": [
    "m = x.shape[0]  # number of training examples\n",
    "xarr = np.array(x).reshape(m, 1)\n",
    "yarr = np.array(y).reshape(m, 1)"
   ]
  },
  {
   "cell_type": "code",
   "execution_count": 99,
   "metadata": {},
   "outputs": [],
   "source": [
    "# the first column is 1's for the features \n",
    "ones = np.ones((m,1))\n",
    "xarr = np.hstack((ones, xarr))"
   ]
  },
  {
   "cell_type": "markdown",
   "metadata": {},
   "source": [
    "In case you are wondering, theta values are the slope and intercept values of the line equation. i.e the values of m and c in the equation y = c + mx. In this case yhat = theta[0][0]+ theta[0][1]*x"
   ]
  },
  {
   "cell_type": "code",
   "execution_count": 81,
   "metadata": {},
   "outputs": [],
   "source": [
    "def computeCost(theta,x, y):\n",
    "    y=y.reshape(-1,1)\n",
    "    theta = theta.reshape(1,-1)\n",
    "    Hyp = x.dot(theta.T)  # multiplying matrices\n",
    "    diff = y - Hyp\n",
    "    squared = np.square(diff)\n",
    "    sumedUp = np.sum(squared)\n",
    "    J = sumedUp / (2 * m)\n",
    "    return J"
   ]
  },
  {
   "cell_type": "code",
   "execution_count": 82,
   "metadata": {},
   "outputs": [
    {
     "name": "stdout",
     "output_type": "stream",
     "text": [
      "Testing the cost function ...\n",
      "\n"
     ]
    },
    {
     "data": {
      "text/plain": [
       "54.24245508201238"
      ]
     },
     "execution_count": 82,
     "metadata": {},
     "output_type": "execute_result"
    }
   ],
   "source": [
    "# given - choose yourself\n",
    "theta = np.array([[-1, 2]])\n",
    "alpha = 0.0001\n",
    "iters = 1000\n",
    "\n",
    "print('Testing the cost function ...\\n')\n",
    "J = computeCost(theta, xarr, yarr)\n",
    "J"
   ]
  },
  {
   "cell_type": "code",
   "execution_count": 83,
   "metadata": {},
   "outputs": [],
   "source": [
    "def gradient(theta, X, y):\n",
    "    return (1 / m) * ((X.T).dot((X.dot(theta) - y)))"
   ]
  },
  {
   "cell_type": "code",
   "execution_count": 100,
   "metadata": {},
   "outputs": [
    {
     "name": "stdout",
     "output_type": "stream",
     "text": [
      "[-3.89578109  1.19303367]\n",
      "4.476971375975184\n"
     ]
    }
   ],
   "source": [
    "initial_theta =  np.array([[2, 1]])\n",
    "temp = opt.fmin_tnc(func=computeCost,\n",
    "                    x0=initial_theta.flatten(),\n",
    "                    fprime=gradient,\n",
    "                    args=(xarr, yarr.flatten()))\n",
    "\n",
    "# the output of above function is a tuple whose first element contains the optimized values of theta\n",
    "theta_optimized = temp[0]\n",
    "J = computeCost(theta_optimized, xarr, yarr)\n",
    "print(theta_optimized)\n",
    "print(J)"
   ]
  },
  {
   "cell_type": "code",
   "execution_count": 94,
   "metadata": {},
   "outputs": [
    {
     "data": {
      "text/plain": [
       "<matplotlib.axes._subplots.AxesSubplot at 0x23ac522b208>"
      ]
     },
     "execution_count": 94,
     "metadata": {},
     "output_type": "execute_result"
    },
    {
     "data": {
      "image/png": "[encoded data removed]",
      "text/plain": [
       "<Figure size 432x288 with 1 Axes>"
      ]
     },
     "metadata": {
      "needs_background": "light"
     },
     "output_type": "display_data"
    }
   ],
   "source": [
    "sns.scatterplot(x, y)\n",
    "sns.lineplot(x, xarr.dot(theta_optimized))"
   ]
  },
  {
   "cell_type": "markdown",
   "metadata": {},
   "source": [
    "# Polynomial"
   ]
  },
  {
   "cell_type": "markdown",
   "metadata": {},
   "source": [
    "## Data generation"
   ]
  },
  {
   "cell_type": "code",
   "execution_count": 120,
   "metadata": {},
   "outputs": [],
   "source": [
    "n = 100\n",
    "domain = (-1, 1)\n",
    "\n",
    "def sample(n, domain, add_noise=True):\n",
    "    x = np.random.uniform(*domain, n) # sample x\n",
    "    y = np.sin(2*np.pi*x) + np.random.normal(scale=0.1, size=n)*float(add_noise)\n",
    "    return x, y\n",
    "\n",
    "x2, y2 = sample(n, domain)"
   ]
  },
  {
   "cell_type": "code",
   "execution_count": 121,
   "metadata": {},
   "outputs": [
    {
     "data": {
      "text/plain": [
       "<matplotlib.axes._subplots.AxesSubplot at 0x23ac546a400>"
      ]
     },
     "execution_count": 121,
     "metadata": {},
     "output_type": "execute_result"
    },
    {
     "data": {
      "image/png": "[encoded data removed]",
      "text/plain": [
       "<Figure size 432x288 with 1 Axes>"
      ]
     },
     "metadata": {
      "needs_background": "light"
     },
     "output_type": "display_data"
    }
   ],
   "source": [
    "sns.scatterplot(x2, y2)"
   ]
  },
  {
   "cell_type": "code",
   "execution_count": 205,
   "metadata": {},
   "outputs": [
    {
     "data": {
      "text/plain": [
       "(100, 6)"
      ]
     },
     "execution_count": 205,
     "metadata": {},
     "output_type": "execute_result"
    }
   ],
   "source": [
    "x2arr = x2.reshape(-1,1)\n",
    "y2arr = y2.reshape(-1,1)\n",
    "m = x2arr.shape[0]\n",
    "ones = np.ones((m,1))\n",
    "x2arr = np.hstack((ones, x2arr))\n",
    "x2arr = np.hstack((ones, x2arr))\n",
    "x2arr = np.hstack((ones, x2arr))\n",
    "x2arr = np.hstack((ones, x2arr))\n",
    "x2arr = np.hstack((ones, x2arr))\n",
    "x2arr.shape\n"
   ]
  },
  {
   "cell_type": "code",
   "execution_count": 206,
   "metadata": {},
   "outputs": [
    {
     "name": "stdout",
     "output_type": "stream",
     "text": [
      "(100, 6)\n",
      "[ 0.04875052  0.13277801 -0.46888796  0.13277801  0.13277801 -0.45853928]\n",
      "0.22607631256621677\n"
     ]
    },
    {
     "data": {
      "text/plain": [
       "<matplotlib.axes._subplots.AxesSubplot at 0x23ac82d13c8>"
      ]
     },
     "execution_count": 206,
     "metadata": {},
     "output_type": "execute_result"
    },
    {
     "data": {
      "image/png": "[encoded data removed]",
      "text/plain": [
       "<Figure size 432x288 with 1 Axes>"
      ]
     },
     "metadata": {
      "needs_background": "light"
     },
     "output_type": "display_data"
    }
   ],
   "source": [
    "initial_theta =  np.array([[2, 1,3,1,1,1]])\n",
    "temp = opt.fmin_tnc(func=computeCost,\n",
    "                    x0=initial_theta.flatten(),\n",
    "                    fprime=gradient,\n",
    "                    args=(x2arr, y2arr.flatten()))\n",
    "print(x2arr.shape)\n",
    "# the output of above function is a tuple whose first element contains the optimized values of theta\n",
    "theta_optimized = temp[0]\n",
    "J = computeCost(theta_optimized, x2arr, y2arr)\n",
    "print(theta_optimized)\n",
    "print(J)\n",
    "sns.scatterplot(x2, y2)\n",
    "sns.lineplot(x2, x2arr.dot(theta_optimized))"
   ]
  },
  {
   "cell_type": "code",
   "execution_count": 203,
   "metadata": {},
   "outputs": [
    {
     "data": {
      "text/plain": [
       "<matplotlib.axes._subplots.AxesSubplot at 0x23ac825f390>"
      ]
     },
     "execution_count": 203,
     "metadata": {},
     "output_type": "execute_result"
    },
    {
     "data": {
      "image/png": "[encoded data removed]",
      "text/plain": [
       "<Figure size 432x288 with 1 Axes>"
      ]
     },
     "metadata": {
      "needs_background": "light"
     },
     "output_type": "display_data"
    }
   ],
   "source": [
    "w = np.ones(3+1) # include bias\n",
    "def poly(w,x,y):\n",
    "    y = np.zeros(np.array(x).shape)\n",
    "    y = y + w[0]\n",
    "    for j in range(1,len(w)):\n",
    "        y = y + w[j]*np.power(x, j)\n",
    "    return y\n",
    "\n",
    "def normal_equation(x_train, y_train, degree):\n",
    "    phi = np.zeros(shape=(len(x_train), degree))\n",
    "    for i in range(degree):\n",
    "        phi[:, i] = x_train ** i\n",
    "\n",
    "    y = np.array(y_train).reshape(-1, 1)\n",
    "    return np.linalg.pinv(phi) @ y\n",
    "\n",
    "# x, y = sample(n, domain)\n",
    "# n_train = 5000\n",
    "# n_val = 1000\n",
    "\n",
    "\n",
    "# x_train, y_train = sample(n_train, domain)\n",
    "# x_val, y_val = sample(n_val, domain)\n",
    "\n",
    "# w_opt = normal_equation(x_train, y_train, 7)\n",
    "w_opt = normal_equation (x2,y2,10) #choose the polynomial \n",
    "\n",
    "y = poly(w_opt, x2,y2)\n",
    "sns.scatterplot(x_train, y_train, color='red')\n",
    "sns.lineplot(x2, y.flatten())\n",
    "\n",
    "\n",
    "\n"
   ]
  },
  {
   "cell_type": "code",
   "execution_count": null,
   "metadata": {},
   "outputs": [],
   "source": []
  }
 ],
 "metadata": {
  "kernelspec": {
   "display_name": "Python 3",
   "language": "python",
   "name": "python3"
  },
  "language_info": {
   "codemirror_mode": {
    "name": "ipython",
    "version": 3
   },
   "file_extension": ".py",
   "mimetype": "text/x-python",
   "name": "python",
   "nbconvert_exporter": "python",
   "pygments_lexer": "ipython3",
   "version": "3.7.1"
  }
 },
 "nbformat": 4,
 "nbformat_minor": 2
}
