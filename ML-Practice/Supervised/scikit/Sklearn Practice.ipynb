{
 "cells": [
  {
   "cell_type": "markdown",
   "metadata": {},
   "source": [
    "# Sklearn Practice"
   ]
  },
  {
   "cell_type": "markdown",
   "metadata": {},
   "source": [
    "[link to the tutorial](https://elitedatascience.com/python-machine-learning-tutorial-scikit-learn)"
   ]
  },
  {
   "cell_type": "markdown",
   "metadata": {},
   "source": [
    "## Import libraries and modules"
   ]
  },
  {
   "cell_type": "code",
   "execution_count": 1,
   "metadata": {},
   "outputs": [],
   "source": [
    "import numpy as np\n",
    "import pandas as pd\n",
    "from sklearn.model_selection import train_test_split\n",
    "from sklearn import preprocessing\n",
    "from sklearn.ensemble import RandomForestRegressor\n",
    "# \n",
    "from sklearn.pipeline import make_pipeline\n",
    "from sklearn.model_selection import GridSearchCV\n",
    "from sklearn.metrics import mean_squared_error, r2_score\n",
    "from sklearn.externals import joblib"
   ]
  },
  {
   "cell_type": "markdown",
   "metadata": {},
   "source": [
    " ## Load red wine data."
   ]
  },
  {
   "cell_type": "code",
   "execution_count": 2,
   "metadata": {},
   "outputs": [
    {
     "name": "stdout",
     "output_type": "stream",
     "text": [
      "  fixed acidity;\"volatile acidity\";\"citric acid\";\"residual sugar\";\"chlorides\";\"free sulfur dioxide\";\"total sulfur dioxide\";\"density\";\"pH\";\"sulphates\";\"alcohol\";\"quality\"\n",
      "0   7.4;0.7;0;1.9;0.076;11;34;0.9978;3.51;0.56;9.4;5                                                                                                                     \n",
      "1   7.8;0.88;0;2.6;0.098;25;67;0.9968;3.2;0.68;9.8;5                                                                                                                     \n",
      "2  7.8;0.76;0.04;2.3;0.092;15;54;0.997;3.26;0.65;...                                                                                                                     \n",
      "3  11.2;0.28;0.56;1.9;0.075;17;60;0.998;3.16;0.58...                                                                                                                     \n",
      "4   7.4;0.7;0;1.9;0.076;11;34;0.9978;3.51;0.56;9.4;5                                                                                                                     \n"
     ]
    }
   ],
   "source": [
    "# Load data from a remote URL\n",
    "dataset_url = 'http://mlr.cs.umass.edu/ml/machine-learning-databases/wine-quality/winequality-red.csv'\n",
    "data = pd.read_csv(dataset_url)\n",
    "print (data.head())"
   ]
  },
  {
   "cell_type": "code",
   "execution_count": 3,
   "metadata": {},
   "outputs": [
    {
     "name": "stdout",
     "output_type": "stream",
     "text": [
      "   fixed acidity  volatile acidity  citric acid  residual sugar  chlorides  \\\n",
      "0            7.4              0.70         0.00             1.9      0.076   \n",
      "1            7.8              0.88         0.00             2.6      0.098   \n",
      "2            7.8              0.76         0.04             2.3      0.092   \n",
      "3           11.2              0.28         0.56             1.9      0.075   \n",
      "4            7.4              0.70         0.00             1.9      0.076   \n",
      "\n",
      "   free sulfur dioxide  total sulfur dioxide  density    pH  sulphates  \\\n",
      "0                 11.0                  34.0   0.9978  3.51       0.56   \n",
      "1                 25.0                  67.0   0.9968  3.20       0.68   \n",
      "2                 15.0                  54.0   0.9970  3.26       0.65   \n",
      "3                 17.0                  60.0   0.9980  3.16       0.58   \n",
      "4                 11.0                  34.0   0.9978  3.51       0.56   \n",
      "\n",
      "   alcohol  quality  \n",
      "0      9.4        5  \n",
      "1      9.8        5  \n",
      "2      9.8        5  \n",
      "3      9.8        6  \n",
      "4      9.4        5  \n"
     ]
    }
   ],
   "source": [
    "# Read CSV with semicolon separator as the one above seems quite messy\n",
    "data = pd.read_csv(dataset_url, sep=';')\n",
    "print (data.head())"
   ]
  },
  {
   "cell_type": "code",
   "execution_count": 4,
   "metadata": {},
   "outputs": [
    {
     "name": "stdout",
     "output_type": "stream",
     "text": [
      "(1599, 12)\n"
     ]
    }
   ],
   "source": [
    "# Looking at the shape\n",
    "print (data.shape)"
   ]
  },
  {
   "cell_type": "code",
   "execution_count": 5,
   "metadata": {},
   "outputs": [
    {
     "name": "stdout",
     "output_type": "stream",
     "text": [
      "       fixed acidity  volatile acidity  citric acid  residual sugar  \\\n",
      "count    1599.000000       1599.000000  1599.000000     1599.000000   \n",
      "mean        8.319637          0.527821     0.270976        2.538806   \n",
      "std         1.741096          0.179060     0.194801        1.409928   \n",
      "min         4.600000          0.120000     0.000000        0.900000   \n",
      "25%         7.100000          0.390000     0.090000        1.900000   \n",
      "50%         7.900000          0.520000     0.260000        2.200000   \n",
      "75%         9.200000          0.640000     0.420000        2.600000   \n",
      "max        15.900000          1.580000     1.000000       15.500000   \n",
      "\n",
      "         chlorides  free sulfur dioxide  total sulfur dioxide      density  \\\n",
      "count  1599.000000          1599.000000           1599.000000  1599.000000   \n",
      "mean      0.087467            15.874922             46.467792     0.996747   \n",
      "std       0.047065            10.460157             32.895324     0.001887   \n",
      "min       0.012000             1.000000              6.000000     0.990070   \n",
      "25%       0.070000             7.000000             22.000000     0.995600   \n",
      "50%       0.079000            14.000000             38.000000     0.996750   \n",
      "75%       0.090000            21.000000             62.000000     0.997835   \n",
      "max       0.611000            72.000000            289.000000     1.003690   \n",
      "\n",
      "                pH    sulphates      alcohol      quality  \n",
      "count  1599.000000  1599.000000  1599.000000  1599.000000  \n",
      "mean      3.311113     0.658149    10.422983     5.636023  \n",
      "std       0.154386     0.169507     1.065668     0.807569  \n",
      "min       2.740000     0.330000     8.400000     3.000000  \n",
      "25%       3.210000     0.550000     9.500000     5.000000  \n",
      "50%       3.310000     0.620000    10.200000     6.000000  \n",
      "75%       3.400000     0.730000    11.100000     6.000000  \n",
      "max       4.010000     2.000000    14.900000     8.000000  \n"
     ]
    }
   ],
   "source": [
    "# Summary statistics\n",
    "print (data.describe())"
   ]
  },
  {
   "cell_type": "markdown",
   "metadata": {},
   "source": [
    "## Split data into training and test sets"
   ]
  },
  {
   "cell_type": "code",
   "execution_count": 6,
   "metadata": {},
   "outputs": [],
   "source": [
    "# Separate target from training features\n",
    "y = data.quality\n",
    "X = data.drop('quality', axis=1)"
   ]
  },
  {
   "cell_type": "code",
   "execution_count": 7,
   "metadata": {},
   "outputs": [],
   "source": [
    "# Split data into train and test sets\n",
    "X_train, X_test, y_train, y_test = train_test_split(X, y, test_size=0.2, random_state=123, stratify=y)\n"
   ]
  },
  {
   "cell_type": "code",
   "execution_count": 8,
   "metadata": {},
   "outputs": [
    {
     "name": "stdout",
     "output_type": "stream",
     "text": [
      "(1279, 11)\n",
      "(320, 11)\n",
      "(1599, 11)\n"
     ]
    }
   ],
   "source": [
    "print (X_train.shape)\n",
    "print(X_test.shape)\n",
    "print(X.shape)"
   ]
  },
  {
   "cell_type": "code",
   "execution_count": 9,
   "metadata": {},
   "outputs": [
    {
     "name": "stdout",
     "output_type": "stream",
     "text": [
      "Training Data\n",
      "[ 1.16664562e-16 -3.05550043e-17 -8.47206937e-17 -2.22218213e-17\n",
      "  2.22218213e-17 -6.38877362e-17 -4.16659149e-18 -2.54439854e-15\n",
      " -8.70817622e-16 -4.08325966e-16 -1.17220107e-15]\n",
      "[1. 1. 1. 1. 1. 1. 1. 1. 1. 1. 1.]\n",
      "Test Data\n",
      "[ 0.02776704  0.02592492 -0.03078587 -0.03137977 -0.00471876 -0.04413827\n",
      " -0.02414174 -0.00293273 -0.00467444 -0.10894663  0.01043391]\n",
      "[1.02160495 1.00135689 0.97456598 0.91099054 0.86716698 0.94193125\n",
      " 1.03673213 1.03145119 0.95734849 0.83829505 1.0286218 ]\n"
     ]
    }
   ],
   "source": [
    "# Fitting the Transformer API\n",
    "scaler = preprocessing.StandardScaler().fit(X_train)\n",
    "\n",
    "# Applying transformer to training data\n",
    "X_train_scaled = scaler.transform(X_train)\n",
    "\n",
    "print(\"Training Data\")\n",
    "print (X_train_scaled.mean(axis=0))\n",
    "# [ 0.  0.  0.  0.  0.  0.  0.  0.  0.  0.  0.]\n",
    "print (X_train_scaled.std(axis=0))\n",
    "# [ 1.  1.  1.  1.  1.  1.  1.  1.  1.  1.  1.]\n",
    "\n",
    "\n",
    "\n",
    "# Applying transformer to test data\n",
    "X_test_scaled = scaler.transform(X_test)\n",
    "\n",
    "print(\"Test Data\") \n",
    "print (X_test_scaled.mean(axis=0))\n",
    "# [ 0.02776704  0.02592492 -0.03078587 -0.03137977 -0.00471876 -0.04413827\n",
    "#  -0.02414174 -0.00293273 -0.00467444 -0.10894663  0.01043391]\n",
    " \n",
    "print (X_test_scaled.std(axis=0))\n",
    "# [ 1.02160495  1.00135689  0.97456598  0.91099054  0.86716698  0.94193125\n",
    "#  1.03673213  1.03145119  0.95734849  0.83829505  1.0286218 ]"
   ]
  },
  {
   "cell_type": "markdown",
   "metadata": {},
   "source": [
    "## Declare data preprocessing steps"
   ]
  },
  {
   "cell_type": "markdown",
   "metadata": {},
   "source": [
    "In practice, when we set up the cross-validation pipeline, we won't even need to manually fit the Transformer API. Instead, we'll simply declare the class object, like so:"
   ]
  },
  {
   "cell_type": "code",
   "execution_count": 19,
   "metadata": {},
   "outputs": [
    {
     "data": {
      "text/plain": [
       "{'memory': None,\n",
       " 'steps': [('standardscaler',\n",
       "   StandardScaler(copy=True, with_mean=True, with_std=True)),\n",
       "  ('randomforestregressor',\n",
       "   RandomForestRegressor(bootstrap=True, criterion='mse', max_depth=None,\n",
       "              max_features='auto', max_leaf_nodes=None,\n",
       "              min_impurity_decrease=0.0, min_impurity_split=None,\n",
       "              min_samples_leaf=1, min_samples_split=2,\n",
       "              min_weight_fraction_leaf=0.0, n_estimators=100, n_jobs=None,\n",
       "              oob_score=False, random_state=None, verbose=0, warm_start=False))],\n",
       " 'standardscaler': StandardScaler(copy=True, with_mean=True, with_std=True),\n",
       " 'randomforestregressor': RandomForestRegressor(bootstrap=True, criterion='mse', max_depth=None,\n",
       "            max_features='auto', max_leaf_nodes=None,\n",
       "            min_impurity_decrease=0.0, min_impurity_split=None,\n",
       "            min_samples_leaf=1, min_samples_split=2,\n",
       "            min_weight_fraction_leaf=0.0, n_estimators=100, n_jobs=None,\n",
       "            oob_score=False, random_state=None, verbose=0, warm_start=False),\n",
       " 'standardscaler__copy': True,\n",
       " 'standardscaler__with_mean': True,\n",
       " 'standardscaler__with_std': True,\n",
       " 'randomforestregressor__bootstrap': True,\n",
       " 'randomforestregressor__criterion': 'mse',\n",
       " 'randomforestregressor__max_depth': None,\n",
       " 'randomforestregressor__max_features': 'auto',\n",
       " 'randomforestregressor__max_leaf_nodes': None,\n",
       " 'randomforestregressor__min_impurity_decrease': 0.0,\n",
       " 'randomforestregressor__min_impurity_split': None,\n",
       " 'randomforestregressor__min_samples_leaf': 1,\n",
       " 'randomforestregressor__min_samples_split': 2,\n",
       " 'randomforestregressor__min_weight_fraction_leaf': 0.0,\n",
       " 'randomforestregressor__n_estimators': 100,\n",
       " 'randomforestregressor__n_jobs': None,\n",
       " 'randomforestregressor__oob_score': False,\n",
       " 'randomforestregressor__random_state': None,\n",
       " 'randomforestregressor__verbose': 0,\n",
       " 'randomforestregressor__warm_start': False}"
      ]
     },
     "execution_count": 19,
     "metadata": {},
     "output_type": "execute_result"
    }
   ],
   "source": [
    "# Pipeline with preprocessing and model\n",
    "pipeline = make_pipeline(preprocessing.StandardScaler(), \n",
    "                         RandomForestRegressor(n_estimators=100))\n",
    "\n",
    "print (pipeline.get_params())"
   ]
  },
  {
   "cell_type": "markdown",
   "metadata": {},
   "source": [
    "## Cross Validation"
   ]
  },
  {
   "cell_type": "code",
   "execution_count": 11,
   "metadata": {},
   "outputs": [
    {
     "name": "stdout",
     "output_type": "stream",
     "text": [
      "{'randomforestregressor__max_depth': None, 'randomforestregressor__max_features': 'sqrt'}\n",
      "True\n"
     ]
    }
   ],
   "source": [
    "# Declare hyperparameters to tune\n",
    "hyperparameters = { 'randomforestregressor__max_features' : ['auto', 'sqrt', 'log2'],\n",
    "                    'randomforestregressor__max_depth': [None, 5, 3, 1]\n",
    "                  }\n",
    "\n",
    "# Sklearn cross-validation with pipeline\n",
    "clf = GridSearchCV(pipeline, hyperparameters, cv=10)\n",
    " \n",
    "# Fit and tune model\n",
    "clf.fit(X_train, y_train)\n",
    "\n",
    "# best set of parameters \n",
    "print (clf.best_params_)\n",
    "\n",
    "# Confirm model will be retrained\n",
    "print (clf.refit)"
   ]
  },
  {
   "cell_type": "markdown",
   "metadata": {},
   "source": [
    "## Evaluate model pipeline on test data"
   ]
  },
  {
   "cell_type": "code",
   "execution_count": 18,
   "metadata": {},
   "outputs": [
    {
     "data": {
      "text/plain": [
       "0.3389221875"
      ]
     },
     "execution_count": 18,
     "metadata": {},
     "output_type": "execute_result"
    }
   ],
   "source": [
    "# Predict a new set of data\n",
    "y_pred = clf.predict(X_test)\n",
    "\n",
    "\n",
    "print (r2_score(y_test, y_pred))\n",
    "# 0.45044082571584243\n",
    " \n",
    "print (mean_squared_error(y_test, y_pred))\n",
    "# 0.35461593750000003"
   ]
  },
  {
   "cell_type": "markdown",
   "metadata": {},
   "source": [
    "## Saving and loading the model for future use"
   ]
  },
  {
   "cell_type": "code",
   "execution_count": 72,
   "metadata": {},
   "outputs": [
    {
     "data": {
      "text/plain": [
       "array([6.49, 5.74, 4.99, 5.48, 6.38, 5.64, 4.98, 4.87, 5.01, 6.16, 5.28,\n",
       "       5.73, 5.75, 5.13, 5.83, 5.61, 6.55, 5.79, 5.73, 6.98, 5.51, 5.59,\n",
       "       5.02, 6.08, 5.95, 5.05, 5.56, 5.14, 5.93, 5.88, 5.88, 6.37, 5.99,\n",
       "       5.08, 4.93, 5.89, 5.09, 6.08, 5.02, 6.05, 4.99, 5.94, 6.63, 5.08,\n",
       "       6.29, 5.38, 5.47, 5.69, 5.17, 6.5 , 6.09, 5.3 , 5.93, 5.15, 5.69,\n",
       "       5.66, 5.29, 5.37, 4.98, 5.22, 5.22, 5.2 , 5.06, 5.8 , 6.05, 5.29,\n",
       "       6.3 , 5.05, 5.16, 6.7 , 5.77, 5.92, 5.09, 5.02, 5.31, 5.99, 5.35,\n",
       "       5.06, 5.22, 5.28, 6.3 , 5.54, 6.14, 6.36, 5.07, 6.02, 6.35, 6.31,\n",
       "       5.73, 5.74, 5.87, 5.28, 6.45, 5.79, 5.66, 5.78, 6.78, 6.72, 5.69,\n",
       "       6.8 , 5.15, 5.44, 5.13, 6.49, 5.01, 4.77, 5.72, 4.95, 5.64, 5.85,\n",
       "       5.9 , 5.29, 6.11, 5.33, 5.19, 5.34, 5.86, 5.15, 4.87, 6.  , 5.87,\n",
       "       5.07, 5.81, 6.18, 5.28, 5.45, 5.24, 5.96, 5.37, 5.41, 5.74, 6.11,\n",
       "       5.13, 5.49, 5.05, 6.44, 5.05, 5.2 , 6.71, 5.64, 5.22, 5.05, 5.6 ,\n",
       "       6.09, 5.32, 5.33, 5.18, 6.37, 5.92, 5.15, 5.57, 5.2 , 4.97, 4.99,\n",
       "       5.25, 5.96, 5.38, 5.84, 5.79, 5.28, 5.57, 5.34, 5.29, 5.85, 4.97,\n",
       "       5.93, 5.16, 5.26, 5.41, 5.14, 5.94, 5.14, 5.71, 5.12, 5.63, 5.5 ,\n",
       "       5.04, 5.39, 5.6 , 5.03, 5.98, 5.54, 5.15, 4.95, 5.19, 6.21, 5.2 ,\n",
       "       5.52, 5.25, 4.77, 5.43, 6.63, 5.83, 5.91, 5.5 , 5.21, 5.44, 5.09,\n",
       "       6.29, 4.87, 6.24, 5.09, 5.23, 5.28, 6.73, 6.02, 5.28, 5.23, 5.38,\n",
       "       5.96, 5.85, 6.05, 6.03, 6.37, 5.78, 5.96, 5.34, 5.21, 5.68, 5.26,\n",
       "       5.27, 6.16, 5.99, 5.51, 5.93, 5.85, 5.55, 6.21, 5.42, 5.86, 5.39,\n",
       "       5.47, 6.15, 5.82, 4.87, 4.54, 6.65, 6.51, 6.35, 5.2 , 5.34, 5.43,\n",
       "       5.45, 6.2 , 5.92, 5.18, 5.09, 5.43, 5.24, 6.27, 5.2 , 5.02, 5.22,\n",
       "       5.16, 5.83, 6.41, 5.74, 5.36, 5.53, 6.34, 5.53, 5.99, 5.25, 5.19,\n",
       "       5.78, 5.73, 5.73, 5.49, 5.36, 5.08, 5.76, 5.51, 6.49, 6.19, 5.8 ,\n",
       "       5.3 , 6.01, 6.56, 6.08, 5.47, 5.72, 5.39, 5.31, 5.99, 6.81, 5.3 ,\n",
       "       6.49, 5.82, 5.38, 5.48, 5.8 , 5.17, 5.18, 6.26, 5.76, 5.98, 5.81,\n",
       "       5.93, 5.33, 5.69, 5.57, 6.22, 5.47, 6.88, 6.76, 5.92, 6.32, 5.06,\n",
       "       5.33, 5.89, 5.31, 5.35, 5.89, 6.59, 6.39, 5.27, 5.45, 5.68, 6.18,\n",
       "       5.45])"
      ]
     },
     "execution_count": 72,
     "metadata": {},
     "output_type": "execute_result"
    }
   ],
   "source": [
    "# Save model to a .pkl file\n",
    "joblib.dump(clf, 'rf_regressor.pkl')\n",
    "\n",
    "# Load model from .pkl file\n",
    "clf2 = joblib.load('rf_regressor.pkl')\n",
    " \n",
    "# Predict data set using loaded model\n",
    "clf2.predict(X_test)\n"
   ]
  },
  {
   "cell_type": "code",
   "execution_count": 84,
   "metadata": {},
   "outputs": [
    {
     "data": {
      "text/plain": [
       "array([['fixed acidity', 'volatile acidity', 'citric acid', ...,\n",
       "        'sulphates', 'alcohol', 'quality'],\n",
       "       ['7.4', '0.7', '0', ..., '0.56', '9.4', '5'],\n",
       "       ['7.8', '0.88', '0', ..., '0.68', '9.8', '5'],\n",
       "       ...,\n",
       "       ['6.3', '0.51', '0.13', ..., '0.75', '11', '6'],\n",
       "       ['5.9', '0.645', '0.12', ..., '0.71', '10.2', '5'],\n",
       "       ['6', '0.31', '0.47', ..., '0.66', '11', '6']], dtype=object)"
      ]
     },
     "execution_count": 84,
     "metadata": {},
     "output_type": "execute_result"
    }
   ],
   "source": [
    "dataset_url = 'http://mlr.cs.umass.edu/ml/machine-learning-databases/wine-quality/winequality-red.csv'\n",
    "data = pd.read_csv(dataset_url, sep=\";\", header=None)\n",
    "# data.columns = [\"x\", \"y\"]\n",
    "# data.head()\n",
    "array = np.array(data)\n",
    "array"
   ]
  },
  {
   "cell_type": "code",
   "execution_count": null,
   "metadata": {},
   "outputs": [],
   "source": []
  }
 ],
 "metadata": {
  "kernelspec": {
   "display_name": "Python 3",
   "language": "python",
   "name": "python3"
  },
  "language_info": {
   "codemirror_mode": {
    "name": "ipython",
    "version": 3
   },
   "file_extension": ".py",
   "mimetype": "text/x-python",
   "name": "python",
   "nbconvert_exporter": "python",
   "pygments_lexer": "ipython3",
   "version": "3.7.1"
  }
 },
 "nbformat": 4,
 "nbformat_minor": 2
}
