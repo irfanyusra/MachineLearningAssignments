{
 "cells": [
  {
   "cell_type": "markdown",
   "metadata": {},
   "source": [
    "# Sklearn Practice"
   ]
  },
  {
   "cell_type": "markdown",
   "metadata": {},
   "source": [
    "[link to the tutorial](https://elitedatascience.com/python-machine-learning-tutorial-scikit-learn)"
   ]
  },
  {
   "cell_type": "markdown",
   "metadata": {},
   "source": [
    "## Import libraries and modules"
   ]
  },
  {
   "cell_type": "code",
   "execution_count": 40,
   "metadata": {},
   "outputs": [],
   "source": [
    "import numpy as np\n",
    "import pandas as pd\n",
    "from sklearn.model_selection import train_test_split\n",
    "from sklearn import preprocessing\n",
    "from sklearn.ensemble import RandomForestRegressor\n",
    "# \n",
    "from sklearn.pipeline import make_pipeline\n",
    "from sklearn.model_selection import GridSearchCV\n",
    "from sklearn.metrics import mean_squared_error, r2_score\n",
    "from sklearn.externals import joblib"
   ]
  },
  {
   "cell_type": "markdown",
   "metadata": {},
   "source": [
    " ## Load red wine data."
   ]
  },
  {
   "cell_type": "code",
   "execution_count": 38,
   "metadata": {},
   "outputs": [
    {
     "name": "stdout",
     "output_type": "stream",
     "text": [
      "  fixed acidity;\"volatile acidity\";\"citric acid\";\"residual sugar\";\"chlorides\";\"free sulfur dioxide\";\"total sulfur dioxide\";\"density\";\"pH\";\"sulphates\";\"alcohol\";\"quality\"\n",
      "0   7.4;0.7;0;1.9;0.076;11;34;0.9978;3.51;0.56;9.4;5                                                                                                                     \n",
      "1   7.8;0.88;0;2.6;0.098;25;67;0.9968;3.2;0.68;9.8;5                                                                                                                     \n",
      "2  7.8;0.76;0.04;2.3;0.092;15;54;0.997;3.26;0.65;...                                                                                                                     \n",
      "3  11.2;0.28;0.56;1.9;0.075;17;60;0.998;3.16;0.58...                                                                                                                     \n",
      "4   7.4;0.7;0;1.9;0.076;11;34;0.9978;3.51;0.56;9.4;5                                                                                                                     \n"
     ]
    }
   ],
   "source": [
    "# Load data from a remote URL\n",
    "dataset_url = 'http://mlr.cs.umass.edu/ml/machine-learning-databases/wine-quality/winequality-red.csv'\n",
    "data = pd.read_csv(dataset_url)\n",
    "print (data.head())"
   ]
  },
  {
   "cell_type": "code",
   "execution_count": null,
   "metadata": {},
   "outputs": [],
   "source": [
    "# Read CSV with semicolon separator as the one above seems quite messy\n",
    "data = pd.read_csv(dataset_url, sep=';')\n",
    "print (data.head())"
   ]
  },
  {
   "cell_type": "code",
   "execution_count": null,
   "metadata": {},
   "outputs": [],
   "source": [
    "# Looking at the shape\n",
    "print (data.shape)"
   ]
  },
  {
   "cell_type": "code",
   "execution_count": null,
   "metadata": {},
   "outputs": [],
   "source": [
    "# Summary statistics\n",
    "print (data.describe())"
   ]
  },
  {
   "cell_type": "markdown",
   "metadata": {},
   "source": [
    "## Split data into training and test sets"
   ]
  },
  {
   "cell_type": "code",
   "execution_count": null,
   "metadata": {},
   "outputs": [],
   "source": [
    "# Separate target from training features\n",
    "y = data.quality\n",
    "X = data.drop('quality', axis=1)"
   ]
  },
  {
   "cell_type": "code",
   "execution_count": null,
   "metadata": {},
   "outputs": [],
   "source": [
    "# Split data into train and test sets\n",
    "X_train, X_test, y_train, y_test = train_test_split(X, y, test_size=0.2, random_state=123, stratify=y)\n"
   ]
  },
  {
   "cell_type": "code",
   "execution_count": null,
   "metadata": {},
   "outputs": [],
   "source": [
    "print (X_train.shape)\n",
    "print(X_test.shape)\n",
    "print(X.shape)"
   ]
  },
  {
   "cell_type": "code",
   "execution_count": null,
   "metadata": {},
   "outputs": [],
   "source": [
    "# Fitting the Transformer API\n",
    "scaler = preprocessing.StandardScaler().fit(X_train)\n",
    "\n",
    "# Applying transformer to training data\n",
    "X_train_scaled = scaler.transform(X_train)\n",
    "\n",
    "print(\"Training Data\")\n",
    "print (X_train_scaled.mean(axis=0))\n",
    "# [ 0.  0.  0.  0.  0.  0.  0.  0.  0.  0.  0.]\n",
    "print (X_train_scaled.std(axis=0))\n",
    "# [ 1.  1.  1.  1.  1.  1.  1.  1.  1.  1.  1.]\n",
    "\n",
    "\n",
    "\n",
    "# Applying transformer to test data\n",
    "X_test_scaled = scaler.transform(X_test)\n",
    "\n",
    "print(\"Test Data\") \n",
    "print (X_test_scaled.mean(axis=0))\n",
    "# [ 0.02776704  0.02592492 -0.03078587 -0.03137977 -0.00471876 -0.04413827\n",
    "#  -0.02414174 -0.00293273 -0.00467444 -0.10894663  0.01043391]\n",
    " \n",
    "print (X_test_scaled.std(axis=0))\n",
    "# [ 1.02160495  1.00135689  0.97456598  0.91099054  0.86716698  0.94193125\n",
    "#  1.03673213  1.03145119  0.95734849  0.83829505  1.0286218 ]"
   ]
  },
  {
   "cell_type": "markdown",
   "metadata": {},
   "source": [
    "## Declare data preprocessing steps"
   ]
  },
  {
   "cell_type": "markdown",
   "metadata": {},
   "source": [
    "In practice, when we set up the cross-validation pipeline, we won't even need to manually fit the Transformer API. Instead, we'll simply declare the class object, like so:"
   ]
  },
  {
   "cell_type": "code",
   "execution_count": null,
   "metadata": {},
   "outputs": [],
   "source": [
    "# Pipeline with preprocessing and model\n",
    "pipeline = make_pipeline(preprocessing.StandardScaler(), \n",
    "                         RandomForestRegressor(n_estimators=100))\n",
    "\n",
    "print (pipeline.get_params())"
   ]
  },
  {
   "cell_type": "markdown",
   "metadata": {},
   "source": [
    "## Cross Validation"
   ]
  },
  {
   "cell_type": "code",
   "execution_count": 64,
   "metadata": {},
   "outputs": [
    {
     "name": "stdout",
     "output_type": "stream",
     "text": [
      "{'randomforestregressor__max_depth': None, 'randomforestregressor__max_features': 'sqrt'}\n",
      "True\n"
     ]
    }
   ],
   "source": [
    "# Declare hyperparameters to tune\n",
    "hyperparameters = { 'randomforestregressor__max_features' : ['auto', 'sqrt', 'log2'],\n",
    "                    'randomforestregressor__max_depth': [None, 5, 3, 1]\n",
    "                  }\n",
    "\n",
    "# Sklearn cross-validation with pipeline\n",
    "clf = GridSearchCV(pipeline, hyperparameters, cv=10)\n",
    " \n",
    "# Fit and tune model\n",
    "clf.fit(X_train, y_train)\n",
    "\n",
    "# best set of parameters \n",
    "print (clf.best_params_)\n",
    "\n",
    "# Confirm model will be retrained\n",
    "print (clf.refit)"
   ]
  },
  {
   "cell_type": "markdown",
   "metadata": {},
   "source": [
    "## Evaluate model pipeline on test data"
   ]
  },
  {
   "cell_type": "code",
   "execution_count": 65,
   "metadata": {},
   "outputs": [],
   "source": [
    "# Predict a new set of data\n",
    "y_pred = clf.predict(X_test)\n",
    "\n",
    "\n",
    "print (r2_score(y_test, y_pred))\n",
    "# 0.45044082571584243\n",
    " \n",
    "print (mean_squared_error(y_test, y_pred))\n",
    "# 0.35461593750000003"
   ]
  },
  {
   "cell_type": "markdown",
   "metadata": {},
   "source": [
    "## Saving and loading the model for future use"
   ]
  },
  {
   "cell_type": "code",
   "execution_count": 67,
   "metadata": {},
   "outputs": [
    {
     "data": {
      "text/plain": [
       "array([6.41, 5.7 , 5.02, 5.53, 6.27, 5.65, 4.95, 4.83, 5.01, 6.1 , 5.33,\n",
       "       5.67, 5.79, 5.1 , 5.71, 5.67, 6.44, 5.71, 5.75, 7.  , 5.49, 5.66,\n",
       "       5.04, 5.95, 5.94, 5.04, 5.56, 5.21, 5.9 , 5.93, 5.87, 6.44, 5.99,\n",
       "       5.04, 4.99, 5.88, 5.02, 6.11, 4.99, 5.89, 4.96, 5.98, 6.63, 5.08,\n",
       "       6.2 , 5.37, 5.55, 5.54, 5.13, 6.43, 6.12, 5.22, 5.74, 5.17, 5.56,\n",
       "       5.69, 5.37, 5.41, 4.98, 5.25, 5.3 , 5.07, 5.05, 5.79, 5.99, 5.41,\n",
       "       6.34, 5.06, 5.15, 6.67, 5.77, 5.83, 5.05, 5.02, 5.42, 6.05, 5.15,\n",
       "       5.08, 5.2 , 5.22, 6.36, 5.58, 6.21, 6.42, 5.16, 5.99, 6.38, 6.31,\n",
       "       5.71, 5.69, 6.01, 5.29, 6.36, 5.82, 5.73, 5.81, 6.67, 6.74, 5.54,\n",
       "       6.82, 5.11, 5.4 , 5.18, 6.48, 5.13, 4.63, 5.68, 5.05, 5.58, 5.91,\n",
       "       5.89, 5.4 , 5.97, 5.34, 5.34, 5.22, 5.93, 5.09, 5.04, 6.2 , 5.91,\n",
       "       5.17, 5.81, 6.14, 5.22, 5.4 , 5.2 , 6.03, 5.61, 5.39, 5.69, 6.38,\n",
       "       5.17, 5.32, 5.04, 6.35, 4.99, 5.16, 6.8 , 5.57, 5.14, 5.1 , 5.53,\n",
       "       6.16, 5.33, 5.37, 5.11, 6.44, 5.87, 5.09, 5.61, 5.16, 5.07, 5.  ,\n",
       "       5.28, 5.93, 5.44, 5.85, 5.78, 5.18, 5.5 , 5.16, 5.29, 5.91, 5.01,\n",
       "       5.98, 5.17, 5.37, 5.52, 5.12, 5.9 , 5.09, 5.68, 5.08, 5.62, 5.52,\n",
       "       5.09, 5.3 , 5.66, 5.04, 6.05, 5.49, 5.03, 4.98, 5.09, 6.09, 5.12,\n",
       "       5.6 , 5.27, 4.92, 5.37, 6.76, 5.89, 5.86, 5.37, 5.25, 5.5 , 5.04,\n",
       "       6.4 , 4.83, 6.23, 5.11, 5.11, 5.29, 6.81, 6.17, 5.36, 5.13, 5.4 ,\n",
       "       5.88, 5.8 , 5.99, 6.03, 6.31, 5.8 , 5.94, 5.22, 5.33, 5.7 , 5.35,\n",
       "       5.3 , 6.14, 6.16, 5.58, 5.9 , 5.88, 5.52, 6.19, 5.36, 5.73, 5.43,\n",
       "       5.49, 6.32, 5.77, 4.8 , 4.55, 6.63, 6.39, 6.41, 5.37, 5.35, 5.5 ,\n",
       "       5.59, 6.21, 5.93, 5.22, 5.13, 5.3 , 5.28, 6.27, 5.09, 5.08, 5.28,\n",
       "       5.13, 5.97, 6.5 , 5.73, 5.36, 5.41, 6.4 , 5.43, 6.04, 5.18, 5.34,\n",
       "       5.73, 5.85, 5.85, 5.57, 5.39, 5.07, 5.7 , 5.51, 6.37, 6.21, 5.42,\n",
       "       5.05, 5.97, 6.55, 6.1 , 5.38, 5.67, 5.34, 5.33, 5.99, 6.9 , 5.38,\n",
       "       6.64, 5.93, 5.45, 5.48, 5.66, 5.14, 5.27, 6.24, 5.69, 6.15, 6.03,\n",
       "       5.94, 5.37, 5.62, 5.62, 6.15, 5.5 , 6.89, 6.72, 5.91, 6.32, 5.05,\n",
       "       5.29, 5.88, 5.3 , 5.34, 6.05, 6.67, 6.52, 5.2 , 5.44, 5.75, 6.07,\n",
       "       5.63])"
      ]
     },
     "execution_count": 67,
     "metadata": {},
     "output_type": "execute_result"
    }
   ],
   "source": [
    "# Save model to a .pkl file\n",
    "joblib.dump(clf, 'rf_regressor.pkl')\n",
    "\n",
    "# Load model from .pkl file\n",
    "clf2 = joblib.load('rf_regressor.pkl')\n",
    " \n",
    "# Predict data set using loaded model\n",
    "clf2.predict(X_test)\n"
   ]
  }
 ],
 "metadata": {
  "kernelspec": {
   "display_name": "Python 3",
   "language": "python",
   "name": "python3"
  },
  "language_info": {
   "codemirror_mode": {
    "name": "ipython",
    "version": 3
   },
   "file_extension": ".py",
   "mimetype": "text/x-python",
   "name": "python",
   "nbconvert_exporter": "python",
   "pygments_lexer": "ipython3",
   "version": "3.7.1"
  }
 },
 "nbformat": 4,
 "nbformat_minor": 2
}
